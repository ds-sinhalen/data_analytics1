{
  "nbformat": 4,
  "nbformat_minor": 0,
  "metadata": {
    "colab": {
      "name": "Introduction.ipynb",
      "provenance": [],
      "include_colab_link": true
    },
    "kernelspec": {
      "name": "python3",
      "display_name": "Python 3"
    }
  },
  "cells": [
    {
      "cell_type": "markdown",
      "metadata": {
        "id": "view-in-github",
        "colab_type": "text"
      },
      "source": [
        "<a href=\"https://colab.research.google.com/github/ds-sinhalen/data_analytics1/blob/master/Introduction.ipynb\" target=\"_parent\"><img src=\"https://colab.research.google.com/assets/colab-badge.svg\" alt=\"Open In Colab\"/></a>"
      ]
    },
    {
      "cell_type": "markdown",
      "metadata": {
        "id": "MyiFvSf6UN6z",
        "colab_type": "text"
      },
      "source": [
        "#Data Analysis with Python"
      ]
    },
    {
      "cell_type": "markdown",
      "metadata": {
        "id": "9eabZvtpUH-E",
        "colab_type": "text"
      },
      "source": [
        "We use pandas.read_csv() function to read the csv file. In the bracket, we put the file path along with a quotation mark, so that pandas will read the file into a data frame from that address. Because the data does not include headers, we can add an argument headers = None inside the read_csv() method, so that pandas will not automatically set the first row as a header"
      ]
    },
    {
      "cell_type": "code",
      "metadata": {
        "id": "LDio7c_5kdaS",
        "colab_type": "code",
        "colab": {}
      },
      "source": [
        "# import pandas library\n",
        "import pandas as pd"
      ],
      "execution_count": 0,
      "outputs": []
    },
    {
      "cell_type": "code",
      "metadata": {
        "id": "7TVJZqb8Ulcz",
        "colab_type": "code",
        "colab": {}
      },
      "source": [
        "#df = pd.read_csv(data, header=None)\n",
        "df = pd.read_csv('Auto_vehicle.csv', header=None) "
      ],
      "execution_count": 0,
      "outputs": []
    },
    {
      "cell_type": "code",
      "metadata": {
        "id": "JcYWYI3EUo0H",
        "colab_type": "code",
        "colab": {}
      },
      "source": [
        "df.head()"
      ],
      "execution_count": 0,
      "outputs": []
    },
    {
      "cell_type": "code",
      "metadata": {
        "id": "zmZs0j3JUteq",
        "colab_type": "code",
        "colab": {}
      },
      "source": [
        "df.shape"
      ],
      "execution_count": 0,
      "outputs": []
    },
    {
      "cell_type": "markdown",
      "metadata": {
        "id": "zPJgEJU8kfF9",
        "colab_type": "text"
      },
      "source": [
        "After reading the dataset, we can use the dataframe.head(n) method to check the top n rows of the dataframe; where n is an integer. Contrary to dataframe.head(n), dataframe.tail(n) will show you the bottom n rows of the dataframe."
      ]
    },
    {
      "cell_type": "code",
      "metadata": {
        "id": "dLhWXQ1SU1KB",
        "colab_type": "code",
        "colab": {}
      },
      "source": [
        "#show the bottom 10 rows of data frame \"data\".\n",
        "df.tail(10)"
      ],
      "execution_count": 0,
      "outputs": []
    },
    {
      "cell_type": "markdown",
      "metadata": {
        "id": "URfXq-BjVP3k",
        "colab_type": "text"
      },
      "source": [
        "## Add Headers"
      ]
    },
    {
      "cell_type": "markdown",
      "metadata": {
        "id": "ZdiNXPePVSMd",
        "colab_type": "text"
      },
      "source": [
        "Take a look at our dataset; pandas automatically set the header by an integer from 0.\n",
        "\n",
        "To better describe our data we can introduce a header, this information is available at: https://archive.ics.uci.edu/ml/datasets/Automobile\n",
        "\n",
        "Thus, we have to add headers manually.\n",
        "\n",
        "Firstly, we create a list \"headers\" that include all column names in order. Then, we use dataframe.columns = column_names to replace the headers by the list we created."
      ]
    },
    {
      "cell_type": "code",
      "metadata": {
        "id": "SserlizxVmty",
        "colab_type": "code",
        "colab": {}
      },
      "source": [
        "# create column names list\n",
        "column_names = [\"symboling\",\"normalized-losses\",\"make\",\"fuel-type\",\"aspiration\", \"num-of-doors\",\"body-style\",\n",
        "         \"drive-wheels\",\"engine-location\",\"wheel-base\", \"length\",\"width\",\"height\",\"curb-weight\",\"engine-type\",\n",
        "         \"num-of-cylinders\", \"engine-size\",\"fuel-system\",\"bore\",\"stroke\",\"compression-ratio\",\"horsepower\",\n",
        "         \"peak-rpm\",\"city-mpg\",\"highway-mpg\",\"price\"]"
      ],
      "execution_count": 0,
      "outputs": []
    },
    {
      "cell_type": "code",
      "metadata": {
        "id": "MUt5n5zTVqUC",
        "colab_type": "code",
        "colab": {}
      },
      "source": [
        "df.columns"
      ],
      "execution_count": 0,
      "outputs": []
    },
    {
      "cell_type": "code",
      "metadata": {
        "id": "7nb1eBy2VtyL",
        "colab_type": "code",
        "colab": {}
      },
      "source": [
        "df.columns = column_names\n",
        "df.head(20)"
      ],
      "execution_count": 0,
      "outputs": []
    },
    {
      "cell_type": "markdown",
      "metadata": {
        "id": "NO_IJ7IPVyuC",
        "colab_type": "text"
      },
      "source": [
        "## Save Dataset"
      ]
    },
    {
      "cell_type": "code",
      "metadata": {
        "id": "66v1bnEmV1Sh",
        "colab_type": "code",
        "colab": {}
      },
      "source": [
        "df.to_csv(\"auto_with_col.csv\", index=False)"
      ],
      "execution_count": 0,
      "outputs": []
    },
    {
      "cell_type": "markdown",
      "metadata": {
        "id": "m05admQcV9GF",
        "colab_type": "text"
      },
      "source": [
        "We can also read and save other file formats, we can use similar functions to pd.read_csv() and df.to_csv() for other data formats, the functions are listed in the following table:\n",
        "\n",
        "<h2>Read/Save Other Data Formats</h2>\n",
        "\n",
        "\n",
        "\n",
        "| Data Formate  | Read           | Save             |\n",
        "| ------------- |:--------------:| ----------------:|\n",
        "| csv           | `pd.read_csv()`  |`df.to_csv()`     |\n",
        "| json          | `pd.read_json()` |`df.to_json()`    |\n",
        "| excel         | `pd.read_excel()`|`df.to_excel()`   |\n",
        "| hdf           | `pd.read_hdf()`  |`df.to_hdf()`     |\n",
        "| sql           | `pd.read_sql()`  |`df.to_sql()`     |"
      ]
    }
  ]
}